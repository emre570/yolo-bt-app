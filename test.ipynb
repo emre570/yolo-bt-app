{
 "cells": [
  {
   "cell_type": "code",
   "execution_count": 1,
   "metadata": {},
   "outputs": [],
   "source": [
    "import threading\n",
    "from yolobt import process_video\n",
    "\n",
    "model = \"models/yolov8m.pt\"\n",
    "\n",
    "input_video = \"inputs/testvideo.mp4\"\n",
    "output1 = \"outputs/testoutput1.mp4\"\n",
    "output2 = \"outputs/testoutput2.mp4\"\n",
    "\n",
    "confidence_threshold = 0.5\n",
    "iou_threshold = 0.5"
   ]
  },
  {
   "cell_type": "code",
   "execution_count": 2,
   "metadata": {},
   "outputs": [],
   "source": [
    "tracker_thread1 = threading.Thread(target=process_video,\n",
    "                                   args=(model, input_video, output1, confidence_threshold, iou_threshold),\n",
    "                                   daemon=True)\n",
    "\n",
    "tracker_thread2 = threading.Thread(target=process_video,\n",
    "                                   args=(model, input_video, output2, confidence_threshold, iou_threshold),\n",
    "                                   daemon=True)"
   ]
  },
  {
   "cell_type": "code",
   "execution_count": 3,
   "metadata": {},
   "outputs": [
    {
     "name": "stderr",
     "output_type": "stream",
     "text": [
      "100%|██████████| 9184/9184 [15:46<00:00,  9.70it/s]\n",
      "100%|█████████▉| 9163/9184 [15:46<00:01, 10.98it/s]"
     ]
    },
    {
     "name": "stdout",
     "output_type": "stream",
     "text": [
      "Class counts saved as JSON in outputs/jsons/class_counts_run5.json.\n"
     ]
    },
    {
     "name": "stderr",
     "output_type": "stream",
     "text": [
      "100%|██████████| 9184/9184 [15:48<00:00,  9.69it/s]\n"
     ]
    },
    {
     "name": "stdout",
     "output_type": "stream",
     "text": [
      "Class counts saved as JSON in outputs/jsons/class_counts_run6.json.\n"
     ]
    }
   ],
   "source": [
    "tracker_thread1.start()\n",
    "tracker_thread2.start()"
   ]
  },
  {
   "cell_type": "code",
   "execution_count": null,
   "metadata": {},
   "outputs": [],
   "source": []
  }
 ],
 "metadata": {
  "kernelspec": {
   "display_name": "Python 3",
   "language": "python",
   "name": "python3"
  },
  "language_info": {
   "codemirror_mode": {
    "name": "ipython",
    "version": 3
   },
   "file_extension": ".py",
   "mimetype": "text/x-python",
   "name": "python",
   "nbconvert_exporter": "python",
   "pygments_lexer": "ipython3",
   "version": "3.10.12"
  }
 },
 "nbformat": 4,
 "nbformat_minor": 2
}
